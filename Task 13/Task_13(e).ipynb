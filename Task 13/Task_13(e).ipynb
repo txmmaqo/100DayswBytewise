{
  "nbformat": 4,
  "nbformat_minor": 0,
  "metadata": {
    "colab": {
      "provenance": []
    },
    "kernelspec": {
      "name": "python3",
      "display_name": "Python 3"
    },
    "language_info": {
      "name": "python"
    }
  },
  "cells": [
    {
      "source": [
        "import pandas as pd\n",
        "from sklearn.model_selection import train_test_split\n",
        "from sklearn.preprocessing import StandardScaler, OneHotEncoder\n",
        "from sklearn.compose import ColumnTransformer\n",
        "from sklearn.pipeline import Pipeline\n",
        "from sklearn.impute import SimpleImputer\n",
        "from sklearn.tree import DecisionTreeClassifier\n",
        "from sklearn.metrics import accuracy_score, roc_auc_score\n",
        "\n",
        "# Load the dataset (replace 'wine_quality.csv' with the actual file path)\n",
        "df = pd.read_csv('/content/winequalityN.csv')\n",
        "\n",
        "# Display the column names to find the correct name of the target column\n",
        "print(df.columns)\n",
        "\n",
        "# Assuming the correct target column is 'quality'\n",
        "# Convert wine quality to binary classification (good/bad)\n",
        "df['quality'] = df['quality'].apply(lambda x: 1 if x >= 6 else 0)\n",
        "\n",
        "# Identify categorical and numerical columns *BEFORE* dropping the target\n",
        "categorical_cols = df.select_dtypes(include=['object']).columns\n",
        "numerical_cols = df.select_dtypes(include=['number']).columns\n",
        "# Remove the target column from numerical columns\n",
        "numerical_cols = numerical_cols.drop('quality')\n",
        "\n",
        "numerical_transformer = Pipeline(steps=[\n",
        "    ('imputer', SimpleImputer(strategy='median')),\n",
        "    ('scaler', StandardScaler())\n",
        "])\n",
        "\n",
        "# Define preprocessing for categorical data: fill missing values and one-hot encode\n",
        "categorical_transformer = Pipeline(steps=[\n",
        "    ('imputer', SimpleImputer(strategy='most_frequent')),\n",
        "    ('onehot', OneHotEncoder(handle_unknown='ignore'))\n",
        "])\n",
        "\n",
        "# Bundle preprocessing for numerical and categorical data\n",
        "preprocessor = ColumnTransformer(\n",
        "    transformers=[\n",
        "        ('num', numerical_transformer, numerical_cols),\n",
        "        ('cat', categorical_transformer, categorical_cols)\n",
        "    ])\n",
        "# Define target and features\n",
        "X = df.drop('quality', axis=1)  # Features\n",
        "y = df['quality']  # Target\n",
        "\n",
        "# Split data into training and test sets\n",
        "X_train, X_test, y_train, y_test = train_test_split(X, y, test_size=0.2, random_state=42)\n",
        "\n",
        "# Create and train the decision tree classifier within a pipeline\n",
        "model = Pipeline(steps=[('preprocessor', preprocessor),\n",
        "                        ('classifier', DecisionTreeClassifier())])\n",
        "\n",
        "# Train the model\n",
        "model.fit(X_train, y_train)\n",
        "\n",
        "# Predict on the test set\n",
        "y_pred = model.predict(X_test)\n",
        "y_pred_proba = model.predict_proba(X_test)[:, 1]\n",
        "\n",
        "# Evaluate the model\n",
        "accuracy = accuracy_score(y_test, y_pred)\n",
        "roc_auc = roc_auc_score(y_test, y_pred_proba)\n",
        "\n",
        "print(f'Accuracy: {accuracy:.2f}')\n",
        "print(f'ROC-AUC: {roc_auc:.2f}')"
      ],
      "cell_type": "code",
      "metadata": {
        "colab": {
          "base_uri": "https://localhost:8080/"
        },
        "id": "ruopnhgaImWf",
        "outputId": "62639ba4-4ec8-4dd5-838b-2f48f77b7cbe"
      },
      "execution_count": 11,
      "outputs": [
        {
          "output_type": "stream",
          "name": "stdout",
          "text": [
            "Index(['type', 'fixed acidity', 'volatile acidity', 'citric acid',\n",
            "       'residual sugar', 'chlorides', 'free sulfur dioxide',\n",
            "       'total sulfur dioxide', 'density', 'pH', 'sulphates', 'alcohol',\n",
            "       'quality'],\n",
            "      dtype='object')\n",
            "Accuracy: 0.79\n",
            "ROC-AUC: 0.77\n"
          ]
        }
      ]
    },
    {
      "cell_type": "code",
      "source": [],
      "metadata": {
        "id": "UyD5foakHSPK"
      },
      "execution_count": null,
      "outputs": []
    }
  ]
}