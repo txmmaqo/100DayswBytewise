{
  "nbformat": 4,
  "nbformat_minor": 0,
  "metadata": {
    "colab": {
      "provenance": []
    },
    "kernelspec": {
      "name": "python3",
      "display_name": "Python 3"
    },
    "language_info": {
      "name": "python"
    }
  },
  "cells": [
    {
      "cell_type": "markdown",
      "source": [
        "Predicting Customer Satisfaction Using Logistic Regression\n",
        "\n",
        "Dataset: Customer Satisfaction Dataset\n",
        "\n",
        "Preprocessing Steps:\n",
        "Handle missing values (e.g., fill missing values with median).\n",
        "Encode categorical variables (e.g., one-hot encoding for region).\n",
        "Standardize numerical features.\n",
        "\n",
        "Task: Implement logistic regression to predict customer satisfaction and evaluate the model using accuracy and confusion matrix."
      ],
      "metadata": {
        "id": "n5l0HjwZ4h68"
      }
    },
    {
      "cell_type": "code",
      "execution_count": 1,
      "metadata": {
        "colab": {
          "base_uri": "https://localhost:8080/"
        },
        "id": "0lHdk-gE4U0t",
        "outputId": "7e6570ab-c942-4d9e-e58c-5002a9301d71"
      },
      "outputs": [
        {
          "output_type": "stream",
          "name": "stdout",
          "text": [
            "Accuracy: 0.865665896843726\n",
            "Confusion Matrix:\n",
            "[[2625  320]\n",
            " [ 378 1873]]\n"
          ]
        }
      ],
      "source": [
        "import pandas as pd\n",
        "from sklearn.preprocessing import StandardScaler\n",
        "from sklearn.model_selection import train_test_split\n",
        "from sklearn.linear_model import LogisticRegression\n",
        "from sklearn.metrics import accuracy_score, confusion_matrix\n",
        "\n",
        "# Load dataset\n",
        "file_path = '/content/test.csv'\n",
        "data = pd.read_csv(file_path)\n",
        "\n",
        "# Handle missing values\n",
        "data['Arrival Delay in Minutes'].fillna(data['Arrival Delay in Minutes'].median(), inplace=True)\n",
        "\n",
        "# Encode categorical variables\n",
        "data = pd.get_dummies(data, columns=['Gender', 'Customer Type', 'Type of Travel', 'Class'], drop_first=True)\n",
        "\n",
        "# Standardize numerical features\n",
        "numerical_features = ['Age', 'Flight Distance', 'Departure Delay in Minutes', 'Arrival Delay in Minutes']\n",
        "scaler = StandardScaler()\n",
        "data[numerical_features] = scaler.fit_transform(data[numerical_features])\n",
        "\n",
        "# Define features and target variable\n",
        "X = data.drop(columns=['Unnamed: 0', 'id', 'satisfaction'])\n",
        "y = data['satisfaction'].apply(lambda x: 1 if x == 'satisfied' else 0)  # Binary encoding for target\n",
        "\n",
        "# Split the data into training and testing sets\n",
        "X_train, X_test, y_train, y_test = train_test_split(X, y, test_size=0.2, random_state=42)\n",
        "\n",
        "# Initialize and train the logistic regression model\n",
        "model = LogisticRegression(max_iter=1000)\n",
        "model.fit(X_train, y_train)\n",
        "\n",
        "# Make predictions\n",
        "y_pred = model.predict(X_test)\n",
        "\n",
        "# Calculate accuracy\n",
        "accuracy = accuracy_score(y_test, y_pred)\n",
        "print(f'Accuracy: {accuracy}')\n",
        "\n",
        "# Generate confusion matrix\n",
        "conf_matrix = confusion_matrix(y_test, y_pred)\n",
        "print('Confusion Matrix:')\n",
        "print(conf_matrix)\n"
      ]
    }
  ]
}