{
  "nbformat": 4,
  "nbformat_minor": 0,
  "metadata": {
    "colab": {
      "provenance": [],
      "authorship_tag": "ABX9TyMN3M61UPYSMMqEViQGr/Ee",
      "include_colab_link": true
    },
    "kernelspec": {
      "name": "python3",
      "display_name": "Python 3"
    },
    "language_info": {
      "name": "python"
    }
  },
  "cells": [
    {
      "cell_type": "markdown",
      "metadata": {
        "id": "view-in-github",
        "colab_type": "text"
      },
      "source": [
        "<a href=\"https://colab.research.google.com/github/txmmaqo/100DayswBytewise/blob/main/Task_06.ipynb\" target=\"_parent\"><img src=\"https://colab.research.google.com/assets/colab-badge.svg\" alt=\"Open In Colab\"/></a>"
      ]
    },
    {
      "cell_type": "code",
      "execution_count": 2,
      "metadata": {
        "colab": {
          "base_uri": "https://localhost:8080/"
        },
        "id": "p2sLcZimnWWy",
        "outputId": "ca345970-c6c8-4c68-fb1d-0c438d3f4c68"
      },
      "outputs": [
        {
          "output_type": "stream",
          "name": "stdout",
          "text": [
            "   sepal length (cm)  sepal width (cm)  petal length (cm)  petal width (cm)\n",
            "0                5.1               3.5                1.4               0.2\n",
            "1                4.9               3.0                1.4               0.2\n",
            "2                4.7               3.2                1.3               0.2\n",
            "3                4.6               3.1                1.5               0.2\n",
            "4                5.0               3.6                1.4               0.2\n"
          ]
        }
      ],
      "source": [
        "from sklearn.datasets import load_iris\n",
        "import pandas as pd\n",
        "#now loading the iris dataset\n",
        "iris = load_iris()\n",
        "iris_df = pd.DataFrame(data=iris.data, columns=iris.feature_names)\n",
        "#printing the first 5 rows\n",
        "print(iris_df.head())\n"
      ]
    },
    {
      "cell_type": "code",
      "source": [
        "import pandas as pd\n",
        "\n",
        "def dataset_info(dataframe):\n",
        "    numFT = dataframe.shape[1]\n",
        "    numSP = dataframe.shape[0]\n",
        "    return numFT, numSP\n",
        "\n",
        "# Example usage with the Iris dataset\n",
        "from sklearn.datasets import load_iris\n",
        "\n",
        "# Load the Iris dataset and convert it to a DataFrame\n",
        "iris = load_iris()\n",
        "iris_df = pd.DataFrame(data=iris.data, columns=iris.feature_names)\n",
        "\n",
        "# Get the number of features and samples\n",
        "features, samples = dataset_info(iris_df)\n",
        "print(\"Number of features: {features}\")\n",
        "print(\"Number of samples: {samples}\")\n"
      ],
      "metadata": {
        "colab": {
          "base_uri": "https://localhost:8080/"
        },
        "id": "izFi_t-lnvRu",
        "outputId": "0a62db65-b0bf-4399-bdf0-4e915946fdf2"
      },
      "execution_count": 3,
      "outputs": [
        {
          "output_type": "stream",
          "name": "stdout",
          "text": [
            "Number of features: 4\n",
            "Number of samples: 150\n"
          ]
        }
      ]
    },
    {
      "cell_type": "code",
      "source": [
        "import pandas as pd\n",
        "from sklearn.datasets import load_iris\n",
        "from sklearn.model_selection import train_test_split\n",
        "\n",
        "iris=load_iris()\n",
        "iris_df=pd.DataFrame(data=iris.data,columns=iris.feature_names)\n",
        "iris_target=iris.target\n",
        "x_train,x_test,y_train,y_test=train_test_split(iris_df,iris_target,test_size=0.2,random_state=42)\n",
        "print(x_train.shape)\n",
        "print(x_test.shape)\n",
        "print(y_train.shape)\n",
        "print(y_test.shape)"
      ],
      "metadata": {
        "colab": {
          "base_uri": "https://localhost:8080/"
        },
        "id": "1KKqOzWWo2id",
        "outputId": "8c751a3d-c759-4e03-eaf8-9f62dd706a4d"
      },
      "execution_count": 7,
      "outputs": [
        {
          "output_type": "stream",
          "name": "stdout",
          "text": [
            "(120, 4)\n",
            "(30, 4)\n",
            "(120,)\n",
            "(30,)\n"
          ]
        }
      ]
    },
    {
      "cell_type": "code",
      "source": [
        "import pandas as pd\n",
        "from sklearn.datasets import load_iris\n",
        "\n",
        "iris = load_iris()\n",
        "iris_ds = pd.DataFrame(data=iris.data, columns=iris.feature_names)\n",
        "stats = iris_ds.describe()\n",
        "median = iris_ds.median()\n",
        "stats['median'] = median\n",
        "print(stats)\n"
      ],
      "metadata": {
        "colab": {
          "base_uri": "https://localhost:8080/"
        },
        "id": "hkijI_rcppdq",
        "outputId": "3d7253e7-81b9-4c5d-b7d8-7d1c95473eb2"
      },
      "execution_count": 10,
      "outputs": [
        {
          "output_type": "stream",
          "name": "stdout",
          "text": [
            "       sepal length (cm)  sepal width (cm)  petal length (cm)  \\\n",
            "count         150.000000        150.000000         150.000000   \n",
            "mean            5.843333          3.057333           3.758000   \n",
            "std             0.828066          0.435866           1.765298   \n",
            "min             4.300000          2.000000           1.000000   \n",
            "25%             5.100000          2.800000           1.600000   \n",
            "50%             5.800000          3.000000           4.350000   \n",
            "75%             6.400000          3.300000           5.100000   \n",
            "max             7.900000          4.400000           6.900000   \n",
            "\n",
            "       petal width (cm)  median  \n",
            "count        150.000000     NaN  \n",
            "mean           1.199333     NaN  \n",
            "std            0.762238     NaN  \n",
            "min            0.100000     NaN  \n",
            "25%            0.300000     NaN  \n",
            "50%            1.300000     NaN  \n",
            "75%            1.800000     NaN  \n",
            "max            2.500000     NaN  \n"
          ]
        }
      ]
    },
    {
      "cell_type": "code",
      "source": [
        "import matplotlib.pyplot as plt\n",
        "import pandas as pd\n",
        "from sklearn.datasets import load_iris\n",
        "\n",
        "iris = load_iris ()\n",
        "iris_ds = pd.DataFrame(data=iris.data, columns=iris.feature_names)\n",
        "#create new figure\n",
        "plt.figure(figsize=(10,6))\n",
        "#plot histogram\n",
        "plt.hist(iris_ds['sepal length (cm)'],bins=20, edgecolor='black')\n",
        "#histograms title\n",
        "plt.title('Histogram of Sepal Length in cm')\n",
        "plt.xlabel('Sepal Length (cm)')\n",
        "plt.ylabel('Frequency')\n",
        "#display graphs\n",
        "plt.show"
      ],
      "metadata": {
        "colab": {
          "base_uri": "https://localhost:8080/",
          "height": 733
        },
        "id": "xCTN0GExqe56",
        "outputId": "431cf785-327a-4178-b638-7bfbeb350333"
      },
      "execution_count": 12,
      "outputs": [
        {
          "output_type": "execute_result",
          "data": {
            "text/plain": [
              "<function matplotlib.pyplot.show(close=None, block=None)>"
            ],
            "text/html": [
              "<div style=\"max-width:800px; border: 1px solid var(--colab-border-color);\"><style>\n",
              "      pre.function-repr-contents {\n",
              "        overflow-x: auto;\n",
              "        padding: 8px 12px;\n",
              "        max-height: 500px;\n",
              "      }\n",
              "\n",
              "      pre.function-repr-contents.function-repr-contents-collapsed {\n",
              "        cursor: pointer;\n",
              "        max-height: 100px;\n",
              "      }\n",
              "    </style>\n",
              "    <pre style=\"white-space: initial; background:\n",
              "         var(--colab-secondary-surface-color); padding: 8px 12px;\n",
              "         border-bottom: 1px solid var(--colab-border-color);\"><b>matplotlib.pyplot.show</b><br/>def show(*args, **kwargs)</pre><pre class=\"function-repr-contents function-repr-contents-collapsed\" style=\"\"><a class=\"filepath\" style=\"display:none\" href=\"#\">/usr/local/lib/python3.10/dist-packages/matplotlib/pyplot.py</a>Display all open figures.\n",
              "\n",
              "Parameters\n",
              "----------\n",
              "block : bool, optional\n",
              "    Whether to wait for all figures to be closed before returning.\n",
              "\n",
              "    If `True` block and run the GUI main loop until all figure windows\n",
              "    are closed.\n",
              "\n",
              "    If `False` ensure that all figure windows are displayed and return\n",
              "    immediately.  In this case, you are responsible for ensuring\n",
              "    that the event loop is running to have responsive figures.\n",
              "\n",
              "    Defaults to True in non-interactive mode and to False in interactive\n",
              "    mode (see `.pyplot.isinteractive`).\n",
              "\n",
              "See Also\n",
              "--------\n",
              "ion : Enable interactive mode, which shows / updates the figure after\n",
              "      every plotting command, so that calling ``show()`` is not necessary.\n",
              "ioff : Disable interactive mode.\n",
              "savefig : Save the figure to an image file instead of showing it on screen.\n",
              "\n",
              "Notes\n",
              "-----\n",
              "**Saving figures to file and showing a window at the same time**\n",
              "\n",
              "If you want an image file as well as a user interface window, use\n",
              "`.pyplot.savefig` before `.pyplot.show`. At the end of (a blocking)\n",
              "``show()`` the figure is closed and thus unregistered from pyplot. Calling\n",
              "`.pyplot.savefig` afterwards would save a new and thus empty figure. This\n",
              "limitation of command order does not apply if the show is non-blocking or\n",
              "if you keep a reference to the figure and use `.Figure.savefig`.\n",
              "\n",
              "**Auto-show in jupyter notebooks**\n",
              "\n",
              "The jupyter backends (activated via ``%matplotlib inline``,\n",
              "``%matplotlib notebook``, or ``%matplotlib widget``), call ``show()`` at\n",
              "the end of every cell by default. Thus, you usually don&#x27;t have to call it\n",
              "explicitly there.</pre>\n",
              "      <script>\n",
              "      if (google.colab.kernel.accessAllowed && google.colab.files && google.colab.files.view) {\n",
              "        for (const element of document.querySelectorAll('.filepath')) {\n",
              "          element.style.display = 'block'\n",
              "          element.onclick = (event) => {\n",
              "            event.preventDefault();\n",
              "            event.stopPropagation();\n",
              "            google.colab.files.view(element.textContent, 401);\n",
              "          };\n",
              "        }\n",
              "      }\n",
              "      for (const element of document.querySelectorAll('.function-repr-contents')) {\n",
              "        element.onclick = (event) => {\n",
              "          event.preventDefault();\n",
              "          event.stopPropagation();\n",
              "          element.classList.toggle('function-repr-contents-collapsed');\n",
              "        };\n",
              "      }\n",
              "      </script>\n",
              "      </div>"
            ]
          },
          "metadata": {},
          "execution_count": 12
        },
        {
          "output_type": "display_data",
          "data": {
            "text/plain": [
              "<Figure size 1000x600 with 1 Axes>"
            ],
            "image/png": "[encoded data removed]"
          },
          "metadata": {}
        }
      ]
    },
    {
      "cell_type": "code",
      "source": [
        "numList = [1,2,3,4,5,6,7,8,9,10]\n",
        "mean = sum(numList)/len(numList)\n",
        "print(mean)"
      ],
      "metadata": {
        "colab": {
          "base_uri": "https://localhost:8080/"
        },
        "id": "76qpNJxfr2fk",
        "outputId": "d4e94bd8-f0ef-42b9-ecf7-38751ce4555d"
      },
      "execution_count": 13,
      "outputs": [
        {
          "output_type": "stream",
          "name": "stdout",
          "text": [
            "5.5\n"
          ]
        }
      ]
    },
    {
      "cell_type": "code",
      "source": [
        "import numpy as np\n",
        "numList = [1,2,3,4,5,6,7,8,9,10]\n",
        "mean = np.mean(numList)\n",
        "print(mean)"
      ],
      "metadata": {
        "colab": {
          "base_uri": "https://localhost:8080/"
        },
        "id": "0JjSWogns0BJ",
        "outputId": "f7bdc67a-ccb0-4252-b76f-1608c268535e"
      },
      "execution_count": 14,
      "outputs": [
        {
          "output_type": "stream",
          "name": "stdout",
          "text": [
            "5.5\n"
          ]
        }
      ]
    },
    {
      "cell_type": "code",
      "source": [
        "import statistics\n",
        "import math\n",
        "def calculcation(numbers):\n",
        "  count = len(numbers)\n",
        "  mean = statistics.mean(numbers)\n",
        "  median = statistics.median(numbers)\n",
        "  if count > 1:\n",
        "        variance = sum((x - mean) ** 2 for x in numbers) / (count - 1)\n",
        "        std_dev = math.sqrt(variance)\n",
        "  else:\n",
        "       std_dev = 0\n",
        "  dictionary = {\n",
        "      'count': count,\n",
        "      'mean': mean,\n",
        "      'median': median,\n",
        "      'std_dev': std_dev\n",
        "  }\n",
        "  return dictionary\n",
        "numbers = [1,3,4,6,8,9,13,5]\n",
        "print(calculcation(numbers))"
      ],
      "metadata": {
        "colab": {
          "base_uri": "https://localhost:8080/"
        },
        "id": "_O-MnMV-wHLa",
        "outputId": "06124e40-057d-4f13-f21b-ce8e65ceb4cc"
      },
      "execution_count": 23,
      "outputs": [
        {
          "output_type": "stream",
          "name": "stdout",
          "text": [
            "{'count': 8, 'mean': 6.125, 'median': 5.5, 'std_dev': 3.7961446607992015}\n"
          ]
        }
      ]
    },
    {
      "cell_type": "code",
      "source": [
        "import random\n",
        "\n",
        "def generate_random_matrix(rows, cols):\n",
        "    matrix = []\n",
        "    for i in range(rows):\n",
        "        row = [random.randint(1, 100) for _ in range(cols)]\n",
        "        matrix.append(row)\n",
        "    return matrix\n",
        "\n",
        "def print_matrix(matrix):\n",
        "    for row in matrix:\n",
        "        print(row)\n",
        "\n",
        "# Generate a 5x5 matrix of random numbers\n",
        "matrix = generate_random_matrix(5, 5)\n",
        "\n",
        "# Print the matrix\n",
        "print_matrix(matrix)\n"
      ],
      "metadata": {
        "colab": {
          "base_uri": "https://localhost:8080/"
        },
        "id": "Lu8fsWRDwqNN",
        "outputId": "0957120b-e166-493e-c9ee-5b91563f1fc3"
      },
      "execution_count": 24,
      "outputs": [
        {
          "output_type": "stream",
          "name": "stdout",
          "text": [
            "[64, 74, 48, 60, 73]\n",
            "[43, 26, 66, 7, 83]\n",
            "[72, 50, 63, 88, 10]\n",
            "[97, 62, 39, 67, 36]\n",
            "[95, 53, 7, 44, 51]\n"
          ]
        }
      ]
    },
    {
      "cell_type": "code",
      "source": [
        "import pandas as pd\n",
        "pathOfFile = '/content/customers-100.csv'\n",
        "DS = pd.read_csv(pathOfFile)\n",
        "summary_stats= DS.describe()\n",
        "print(summary_stats)"
      ],
      "metadata": {
        "colab": {
          "base_uri": "https://localhost:8080/"
        },
        "id": "AuhF-wgMwxiG",
        "outputId": "1c211d79-8449-4736-f0b4-ad19b05d2bcd"
      },
      "execution_count": 25,
      "outputs": [
        {
          "output_type": "stream",
          "name": "stdout",
          "text": [
            "            Index\n",
            "count  100.000000\n",
            "mean    50.500000\n",
            "std     29.011492\n",
            "min      1.000000\n",
            "25%     25.750000\n",
            "50%     50.500000\n",
            "75%     75.250000\n",
            "max    100.000000\n"
          ]
        }
      ]
    },
    {
      "cell_type": "code",
      "source": [
        "from sklearn.linear_model import LinearRegression\n",
        "import numpy as np\n",
        "# Data Sample\n",
        "#u = features, v = target\n",
        "u = np.array([1, 2, 3, 4, 5]).reshape(-1, 1)\n",
        "v = np.array([2, 3.5, 3.8, 5.1, 6.2])\n",
        "#creation of linear regreesion model\n",
        "model = LinearRegression()\n",
        "model.fit(u, v)\n",
        "print(\"Intercept:\", model.intercept_)\n",
        "print(\"Coefficient:\", model.coef_[0])\n"
      ],
      "metadata": {
        "colab": {
          "base_uri": "https://localhost:8080/"
        },
        "id": "AkO3zpxrxt1k",
        "outputId": "7d39d43a-02b2-473c-efaf-8bf5a4b2e974"
      },
      "execution_count": 26,
      "outputs": [
        {
          "output_type": "stream",
          "name": "stdout",
          "text": [
            "Intercept: 1.1199999999999992\n",
            "Coefficient: 1.0000000000000002\n"
          ]
        }
      ]
    }
  ]
}