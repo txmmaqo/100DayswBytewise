{
  "nbformat": 4,
  "nbformat_minor": 0,
  "metadata": {
    "colab": {
      "provenance": []
    },
    "kernelspec": {
      "name": "python3",
      "display_name": "Python 3"
    },
    "language_info": {
      "name": "python"
    }
  },
  "cells": [
    {
      "cell_type": "markdown",
      "source": [
        "2. Classifying Credit Card Fraud Using Decision Trees\n",
        "   Dataset: Credit Card Fraud Detection Dataset\n",
        "   Preprocessing Steps:\n",
        "     - Handle missing values if any.\n",
        "     - Standardize features.\n",
        "   Task: Implement a decision tree classifier to classify credit card transactions as fraud or not and evaluate the model using ROC-AUC and confusion matrix."
      ],
      "metadata": {
        "id": "iR7Fnnw5r0zd"
      }
    },
    {
      "cell_type": "code",
      "source": [
        "import pandas as pd\n",
        "from sklearn.model_selection import train_test_split\n",
        "from sklearn.tree import DecisionTreeClassifier\n",
        "from sklearn.metrics import roc_auc_score, confusion_matrix\n",
        "from sklearn.preprocessing import StandardScaler\n",
        "\n",
        "# Load the dataset\n",
        "df = pd.read_csv('/content/creditcard.csv')\n",
        "\n",
        "# Handle missing values\n",
        "df.fillna(df.mean(), inplace=True)\n",
        "\n",
        "# Separate features and target variable\n",
        "X = df.drop('Class', axis=1)\n",
        "y = df['Class'].astype(int)  # Ensure target variable is integer type\n",
        "\n",
        "# Check the distribution of classes\n",
        "print(\"Class distribution before split:\")\n",
        "print(y.value_counts())\n",
        "\n",
        "# Standardize features\n",
        "scaler = StandardScaler()\n",
        "X_scaled = scaler.fit_transform(X)\n",
        "\n",
        "# Split the data into training and testing sets\n",
        "X_train, X_test, y_train, y_test = train_test_split(X_scaled, y, test_size=0.3, random_state=42, stratify=y)\n",
        "\n",
        "# Check the distribution of classes in training and test sets\n",
        "print(\"Class distribution in training set:\")\n",
        "print(y_train.value_counts())\n",
        "print(\"Class distribution in test set:\")\n",
        "print(y_test.value_counts())\n",
        "\n",
        "# Ensure that both classes are present in the training and test sets\n",
        "if len(y_train.unique()) < 2 or len(y_test.unique()) < 2:\n",
        "    raise ValueError(\"Training or test set does not contain both classes. Adjust the split or dataset.\")\n",
        "\n",
        "# Train the Decision Tree Classifier\n",
        "classifier = DecisionTreeClassifier(random_state=42)\n",
        "classifier.fit(X_train, y_train)\n",
        "\n",
        "# Make predictions\n",
        "y_pred = classifier.predict(X_test)\n",
        "y_pred_prob = classifier.predict_proba(X_test)[:, 1]\n",
        "\n",
        "# Evaluate the model\n",
        "roc_auc = roc_auc_score(y_test, y_pred_prob)\n",
        "conf_matrix = confusion_matrix(y_test, y_pred)\n",
        "\n",
        "print(f'ROC-AUC Score: {roc_auc}')\n",
        "print('Confusion Matrix:')\n",
        "print(conf_matrix)"
      ],
      "metadata": {
        "colab": {
          "base_uri": "https://localhost:8080/"
        },
        "id": "p5WfuG7Pw6ax",
        "outputId": "17743c01-f2dd-4633-cded-1bd8bd94eb0d"
      },
      "execution_count": 7,
      "outputs": [
        {
          "output_type": "stream",
          "name": "stdout",
          "text": [
            "Class distribution before split:\n",
            "Class\n",
            "0    1984\n",
            "1       2\n",
            "Name: count, dtype: int64\n",
            "Class distribution in training set:\n",
            "Class\n",
            "0    1389\n",
            "1       1\n",
            "Name: count, dtype: int64\n",
            "Class distribution in test set:\n",
            "Class\n",
            "0    595\n",
            "1      1\n",
            "Name: count, dtype: int64\n",
            "ROC-AUC Score: 0.49831932773109244\n",
            "Confusion Matrix:\n",
            "[[593   2]\n",
            " [  1   0]]\n"
          ]
        }
      ]
    }
  ]
}