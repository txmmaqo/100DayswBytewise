{
  "nbformat": 4,
  "nbformat_minor": 0,
  "metadata": {
    "colab": {
      "provenance": []
    },
    "kernelspec": {
      "name": "python3",
      "display_name": "Python 3"
    },
    "language_info": {
      "name": "python"
    }
  },
  "cells": [
    {
      "cell_type": "markdown",
      "source": [
        "Classifying Emails as Spam Using Decision Trees\n",
        "\n",
        "Dataset: Spam Email Dataset\n",
        "\n",
        "Preprocessing Steps:\n",
        "Handle missing values if any.\n",
        "Standardize features.\n",
        "Encode categorical variables if present.\n",
        "\n",
        "Task: Implement a decision tree classifier to classify emails as spam or not and evaluate the model using precision, recall, and F1-score"
      ],
      "metadata": {
        "id": "EHIjAYo6uMtc"
      }
    },
    {
      "cell_type": "code",
      "source": [
        "import pandas as pd\n",
        "import numpy as np\n",
        "from sklearn.tree import DecisionTreeClassifier\n",
        "from sklearn.model_selection import train_test_split\n",
        "from sklearn.metrics import precision_score, recall_score, f1_score, confusion_matrix\n",
        "from sklearn.feature_extraction.text import TfidfVectorizer\n",
        "\n",
        "# Loading dataset\n",
        "df = pd.read_csv('/content/spam.csv')\n",
        "print(df.head())\n",
        "df.info()\n",
        "df.describe()\n",
        "\n",
        "# Check for missing values\n",
        "missing_values = df.isna().sum()\n",
        "print(missing_values)\n",
        "\n",
        "# Extracting features and target\n",
        "X = df['Message']\n",
        "y = df['Category']\n",
        "\n",
        "# Text vectorization\n",
        "tfidf = TfidfVectorizer(stop_words='english', max_features=1000)\n",
        "X = tfidf.fit_transform(X).toarray()\n",
        "\n",
        "# Encode the labels (ham = 0, spam = 1)\n",
        "y = y.map({'ham': 0, 'spam': 1})\n",
        "\n",
        "# Splitting into training and testing sets\n",
        "X_train, X_test, y_train, y_test = train_test_split(X, y, test_size=0.2, random_state=42)\n",
        "\n",
        "# Training Model\n",
        "model = DecisionTreeClassifier()\n",
        "model.fit(X_train, y_train)\n",
        "\n",
        "# Prediction\n",
        "y_pred = model.predict(X_test)\n",
        "\n",
        "# Model Evaluation\n",
        "precision = precision_score(y_test, y_pred)\n",
        "recall = recall_score(y_test, y_pred)\n",
        "f1 = f1_score(y_test, y_pred)\n",
        "conf_matrix = confusion_matrix(y_test, y_pred)\n",
        "\n",
        "print(f\"Precision: {precision}\")\n",
        "print(f\"Recall: {recall}\")\n",
        "print(f\"F1 Score: {f1}\")\n",
        "print(f\"Confusion Matrix:\\n{conf_matrix}\")"
      ],
      "metadata": {
        "colab": {
          "base_uri": "https://localhost:8080/"
        },
        "id": "Mm-HvupBLFR6",
        "outputId": "18b25f00-b35f-4271-bdea-7de6d71425fd"
      },
      "execution_count": 88,
      "outputs": [
        {
          "output_type": "stream",
          "name": "stdout",
          "text": [
            "  Category                                            Message\n",
            "0      ham  Go until jurong point, crazy.. Available only ...\n",
            "1      ham                      Ok lar... Joking wif u oni...\n",
            "2     spam  Free entry in 2 a wkly comp to win FA Cup fina...\n",
            "3      ham  U dun say so early hor... U c already then say...\n",
            "4      ham  Nah I don't think he goes to usf, he lives aro...\n",
            "<class 'pandas.core.frame.DataFrame'>\n",
            "RangeIndex: 5572 entries, 0 to 5571\n",
            "Data columns (total 2 columns):\n",
            " #   Column    Non-Null Count  Dtype \n",
            "---  ------    --------------  ----- \n",
            " 0   Category  5572 non-null   object\n",
            " 1   Message   5572 non-null   object\n",
            "dtypes: object(2)\n",
            "memory usage: 87.2+ KB\n",
            "Category    0\n",
            "Message     0\n",
            "dtype: int64\n",
            "Precision: 0.9014084507042254\n",
            "Recall: 0.8590604026845637\n",
            "F1 Score: 0.8797250859106529\n",
            "Confusion Matrix:\n",
            "[[952  14]\n",
            " [ 21 128]]\n"
          ]
        }
      ]
    }
  ]
}